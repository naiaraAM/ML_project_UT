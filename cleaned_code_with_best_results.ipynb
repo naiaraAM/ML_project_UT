{
 "cells": [
  {
   "cell_type": "markdown",
   "metadata": {
    "colab_type": "text",
    "id": "view-in-github"
   },
   "source": [
    "<a href=\"https://colab.research.google.com/github/naiaraAM/ML_project_UT/blob/main/Project_ML.ipynb\" target=\"_parent\"><img src=\"https://colab.research.google.com/assets/colab-badge.svg\" alt=\"Open In Colab\"/></a>\n"
   ]
  },
  {
   "cell_type": "markdown",
   "metadata": {
    "id": "AzV8D8bXC4lw"
   },
   "source": [
    "# Set up enviroment\n"
   ]
  },
  {
   "cell_type": "markdown",
   "metadata": {
    "id": "rrh42OERGJnQ"
   },
   "source": [
    "# Download data\n"
   ]
  },
  {
   "cell_type": "code",
   "metadata": {
    "ExecuteTime": {
     "end_time": "2024-12-12T11:26:02.305325Z",
     "start_time": "2024-12-12T11:25:56.651077Z"
    }
   },
   "source": [
    "import matplotlib.pyplot as plt\n",
    "import umap.plot\n",
    "import numpy as np\n",
    "import pandas as pd\n",
    "\n",
    "from sklearn.experimental import enable_hist_gradient_boosting  # noqa\n",
    "from sklearn.ensemble import HistGradientBoostingClassifier, RandomForestClassifier\n",
    "from sklearn.metrics import accuracy_score, classification_report, confusion_matrix\n",
    "from sklearn.model_selection import train_test_split\n",
    "from sklearn.preprocessing import StandardScaler, LabelEncoder\n",
    "\n",
    "import xgboost as xgb\n",
    "\n",
    "import seaborn as sns\n",
    "\n",
    "# remove warnings\n",
    "import warnings\n",
    "warnings.filterwarnings('ignore')"
   ],
   "outputs": [
    {
     "name": "stderr",
     "output_type": "stream",
     "text": [
      "/home/chispitas/Documents/UT/Machine Learning/Project/venv/lib/python3.12/site-packages/tqdm/auto.py:21: TqdmWarning: IProgress not found. Please update jupyter and ipywidgets. See https://ipywidgets.readthedocs.io/en/stable/user_install.html\n",
      "  from .autonotebook import tqdm as notebook_tqdm\n",
      "/home/chispitas/Documents/UT/Machine Learning/Project/venv/lib/python3.12/site-packages/numba/np/ufunc/dufunc.py:343: NumbaWarning: Compilation requested for previously compiled argument types ((uint32,)). This has no effect and perhaps indicates a bug in the calling code (compiling a ufunc more than once for the same signature\n",
      "  warnings.warn(msg, errors.NumbaWarning)\n",
      "/home/chispitas/Documents/UT/Machine Learning/Project/venv/lib/python3.12/site-packages/numba/np/ufunc/dufunc.py:343: NumbaWarning: Compilation requested for previously compiled argument types ((uint32,)). This has no effect and perhaps indicates a bug in the calling code (compiling a ufunc more than once for the same signature\n",
      "  warnings.warn(msg, errors.NumbaWarning)\n",
      "/home/chispitas/Documents/UT/Machine Learning/Project/venv/lib/python3.12/site-packages/numba/np/ufunc/dufunc.py:343: NumbaWarning: Compilation requested for previously compiled argument types ((uint32,)). This has no effect and perhaps indicates a bug in the calling code (compiling a ufunc more than once for the same signature\n",
      "  warnings.warn(msg, errors.NumbaWarning)\n",
      "/home/chispitas/Documents/UT/Machine Learning/Project/venv/lib/python3.12/site-packages/sklearn/experimental/enable_hist_gradient_boosting.py:16: UserWarning: Since version 1.0, it is not needed to import enable_hist_gradient_boosting anymore. HistGradientBoostingClassifier and HistGradientBoostingRegressor are now stable and can be normally imported from sklearn.ensemble.\n",
      "  warnings.warn(\n"
     ]
    }
   ],
   "execution_count": 1
  },
  {
   "cell_type": "code",
   "metadata": {
    "colab": {
     "base_uri": "https://localhost:8080/",
     "height": 145
    },
    "id": "MobMyN7kGOZS",
    "outputId": "e36928ec-8f8b-4f07-c8a1-6795bd4b8c92",
    "ExecuteTime": {
     "end_time": "2024-12-12T09:34:30.118201Z",
     "start_time": "2024-12-12T09:34:29.883686Z"
    }
   },
   "source": [
    "!unzip -q playground-series-s4e6.zip -d data\n",
    "!rm playground-series-s4e6.zip"
   ],
   "outputs": [
    {
     "name": "stdout",
     "output_type": "stream",
     "text": [
      "unzip:  cannot find or open playground-series-s4e6.zip, playground-series-s4e6.zip.zip or playground-series-s4e6.zip.ZIP.\r\n",
      "rm: cannot remove 'playground-series-s4e6.zip': No such file or directory\r\n"
     ]
    }
   ],
   "execution_count": 2
  },
  {
   "cell_type": "code",
   "metadata": {
    "colab": {
     "base_uri": "https://localhost:8080/"
    },
    "id": "nAKgcDH_F13K",
    "outputId": "ef4a9512-2644-4c37-85b7-5aadaf4304e3",
    "ExecuteTime": {
     "end_time": "2024-12-12T11:26:13.664309Z",
     "start_time": "2024-12-12T11:26:13.462073Z"
    }
   },
   "source": [
    "train_data = pd.read_csv('data/train.csv')\n",
    "test_data = pd.read_csv('data/test.csv')\n",
    "\n",
    "print(f\"The train data has {train_data.shape[0]} rows and {train_data.shape[1]} columns\")\n",
    "print(f\"The test data has {test_data.shape[0]} rows and {test_data.shape[1]} columns\")"
   ],
   "outputs": [
    {
     "name": "stdout",
     "output_type": "stream",
     "text": [
      "The train data has 76518 rows and 38 columns\n",
      "The test data has 51012 rows and 37 columns\n"
     ]
    }
   ],
   "execution_count": 2
  },
  {
   "cell_type": "markdown",
   "metadata": {},
   "source": [
    "<font color='red'>Do your code in the cell bellow your name, so we don't have merge issues. We can merge on friday's meeting</font>\n"
   ]
  },
  {
   "metadata": {},
   "cell_type": "markdown",
   "source": "# Data Processing"
  },
  {
   "metadata": {
    "ExecuteTime": {
     "end_time": "2024-12-12T11:26:16.243895Z",
     "start_time": "2024-12-12T11:26:16.240153Z"
    }
   },
   "cell_type": "code",
   "source": [
    "# We will re-use this code in the future\n",
    "def plot_class_distribution(y, title=\"Class Distribution\"):\n",
    "\n",
    "    class_counts = y.value_counts()\n",
    "\n",
    "    class_counts.plot(kind='bar', color=['skyblue', 'orange', 'red'])\n",
    "    plt.title(title, fontsize=14)\n",
    "    plt.xlabel(\"Class\", fontsize=12)\n",
    "    plt.ylabel(\"Frequency\", fontsize=12)\n",
    "    plt.xticks(rotation=0, fontsize=10)\n",
    "    plt.yticks(fontsize=10)\n",
    "    plt.tight_layout()\n",
    "    plt.show()"
   ],
   "outputs": [],
   "execution_count": 3
  },
  {
   "metadata": {
    "ExecuteTime": {
     "end_time": "2024-12-12T11:26:19.699968Z",
     "start_time": "2024-12-12T11:26:19.689327Z"
    }
   },
   "cell_type": "code",
   "source": [
    "X, Y = train_data.drop(columns=['id', 'Target']), train_data['Target']\n",
    "X.shape, Y.shape, train_data.shape"
   ],
   "outputs": [
    {
     "data": {
      "text/plain": [
       "((76518, 36), (76518,), (76518, 38))"
      ]
     },
     "execution_count": 4,
     "metadata": {},
     "output_type": "execute_result"
    }
   ],
   "execution_count": 4
  },
  {
   "metadata": {
    "ExecuteTime": {
     "end_time": "2024-12-12T11:26:21.336656Z",
     "start_time": "2024-12-12T11:26:21.270701Z"
    }
   },
   "cell_type": "code",
   "source": [
    "X_train, X_val, y_train, y_val = train_test_split(X, Y, random_state = 111, test_size = 0.20, stratify=Y)\n",
    "X_train.shape, y_train.shape, X_val.shape, y_val.shape"
   ],
   "outputs": [
    {
     "data": {
      "text/plain": [
       "((61214, 36), (61214,), (15304, 36), (15304,))"
      ]
     },
     "execution_count": 5,
     "metadata": {},
     "output_type": "execute_result"
    }
   ],
   "execution_count": 5
  },
  {
   "metadata": {
    "ExecuteTime": {
     "end_time": "2024-12-12T11:26:23.155140Z",
     "start_time": "2024-12-12T11:26:23.037594Z"
    }
   },
   "cell_type": "code",
   "source": [
    "%matplotlib inline\n",
    "\n",
    "plot_class_distribution(y_train)"
   ],
   "outputs": [
    {
     "data": {
      "text/plain": [
       "<Figure size 640x480 with 1 Axes>"
      ],
      "image/png": "[encoded data removed]"
     },
     "metadata": {},
     "output_type": "display_data"
    }
   ],
   "execution_count": 6
  },
  {
   "metadata": {
    "ExecuteTime": {
     "end_time": "2024-12-12T11:26:47.549492Z",
     "start_time": "2024-12-12T11:26:47.485158Z"
    }
   },
   "cell_type": "code",
   "source": [
    "scaler = StandardScaler()\n",
    "X_scaled = scaler.fit_transform(X_train) # normalize data\n",
    "X_val_scaled = scaler.transform(X_val)\n",
    "X_test_scaled = scaler.transform(test_data.drop(columns=['id']))"
   ],
   "outputs": [],
   "execution_count": 9
  },
  {
   "metadata": {
    "ExecuteTime": {
     "end_time": "2024-12-12T11:26:49.111226Z",
     "start_time": "2024-12-12T11:26:49.102475Z"
    }
   },
   "cell_type": "code",
   "source": [
    "label_encoder = LabelEncoder()\n",
    "y_encoded = label_encoder.fit_transform(y_train)\n",
    "y_val_encoded = label_encoder.fit_transform(y_val)"
   ],
   "outputs": [],
   "execution_count": 10
  },
  {
   "metadata": {
    "ExecuteTime": {
     "end_time": "2024-12-12T11:27:22.849756Z",
     "start_time": "2024-12-12T11:26:50.448711Z"
    }
   },
   "cell_type": "code",
   "source": [
    "mapper = umap.UMAP().fit(X_scaled)\n",
    "umap.plot.points(mapper, labels=y_encoded)"
   ],
   "outputs": [
    {
     "data": {
      "text/plain": [
       "<Axes: >"
      ]
     },
     "execution_count": 11,
     "metadata": {},
     "output_type": "execute_result"
    },
    {
     "data": {
      "text/plain": [
       "<Figure size 800x800 with 1 Axes>"
      ],
      "image/png": "[encoded data removed]"
     },
     "metadata": {},
     "output_type": "display_data"
    }
   ],
   "execution_count": 11
  },
  {
   "cell_type": "markdown",
   "metadata": {},
   "source": [
    "## Naiara\n"
   ]
  },
  {
   "cell_type": "code",
   "metadata": {
    "editable": true,
    "slideshow": {
     "slide_type": ""
    },
    "tags": [],
    "ExecuteTime": {
     "end_time": "2024-12-12T11:27:27.775198Z",
     "start_time": "2024-12-12T11:27:25.980980Z"
    }
   },
   "source": [
    "# Define class weights\n",
    "class_weights = {0: 1, 1: 1, 2: 1}\n",
    "\n",
    "# Create sample weights based on class weights\n",
    "sample_weight = [class_weights[label] for label in y_encoded]\n",
    "\n",
    "# Initialize the HistGradientBoosting Classifier\n",
    "hgb_model = HistGradientBoostingClassifier(\n",
    "    max_iter=110,              # Equivalent to n_estimators\n",
    "    learning_rate=0.06,\n",
    "    max_depth=10,\n",
    "    min_samples_leaf=20,\n",
    "    random_state=42\n",
    ")\n",
    "\n",
    "# Train the model with sample weights\n",
    "hgb_model.fit(X_scaled, y_encoded, sample_weight=sample_weight)"
   ],
   "outputs": [
    {
     "data": {
      "text/plain": [
       "HistGradientBoostingClassifier(learning_rate=0.06, max_depth=10, max_iter=110,\n",
       "                               random_state=42)"
      ],
      "text/html": [
       "<style>#sk-container-id-1 {\n",
       "  /* Definition of color scheme common for light and dark mode */\n",
       "  --sklearn-color-text: black;\n",
       "  --sklearn-color-line: gray;\n",
       "  /* Definition of color scheme for unfitted estimators */\n",
       "  --sklearn-color-unfitted-level-0: #fff5e6;\n",
       "  --sklearn-color-unfitted-level-1: #f6e4d2;\n",
       "  --sklearn-color-unfitted-level-2: #ffe0b3;\n",
       "  --sklearn-color-unfitted-level-3: chocolate;\n",
       "  /* Definition of color scheme for fitted estimators */\n",
       "  --sklearn-color-fitted-level-0: #f0f8ff;\n",
       "  --sklearn-color-fitted-level-1: #d4ebff;\n",
       "  --sklearn-color-fitted-level-2: #b3dbfd;\n",
       "  --sklearn-color-fitted-level-3: cornflowerblue;\n",
       "\n",
       "  /* Specific color for light theme */\n",
       "  --sklearn-color-text-on-default-background: var(--sg-text-color, var(--theme-code-foreground, var(--jp-content-font-color1, black)));\n",
       "  --sklearn-color-background: var(--sg-background-color, var(--theme-background, var(--jp-layout-color0, white)));\n",
       "  --sklearn-color-border-box: var(--sg-text-color, var(--theme-code-foreground, var(--jp-content-font-color1, black)));\n",
       "  --sklearn-color-icon: #696969;\n",
       "\n",
       "  @media (prefers-color-scheme: dark) {\n",
       "    /* Redefinition of color scheme for dark theme */\n",
       "    --sklearn-color-text-on-default-background: var(--sg-text-color, var(--theme-code-foreground, var(--jp-content-font-color1, white)));\n",
       "    --sklearn-color-background: var(--sg-background-color, var(--theme-background, var(--jp-layout-color0, #111)));\n",
       "    --sklearn-color-border-box: var(--sg-text-color, var(--theme-code-foreground, var(--jp-content-font-color1, white)));\n",
       "    --sklearn-color-icon: #878787;\n",
       "  }\n",
       "}\n",
       "\n",
       "#sk-container-id-1 {\n",
       "  color: var(--sklearn-color-text);\n",
       "}\n",
       "\n",
       "#sk-container-id-1 pre {\n",
       "  padding: 0;\n",
       "}\n",
       "\n",
       "#sk-container-id-1 input.sk-hidden--visually {\n",
       "  border: 0;\n",
       "  clip: rect(1px 1px 1px 1px);\n",
       "  clip: rect(1px, 1px, 1px, 1px);\n",
       "  height: 1px;\n",
       "  margin: -1px;\n",
       "  overflow: hidden;\n",
       "  padding: 0;\n",
       "  position: absolute;\n",
       "  width: 1px;\n",
       "}\n",
       "\n",
       "#sk-container-id-1 div.sk-dashed-wrapped {\n",
       "  border: 1px dashed var(--sklearn-color-line);\n",
       "  margin: 0 0.4em 0.5em 0.4em;\n",
       "  box-sizing: border-box;\n",
       "  padding-bottom: 0.4em;\n",
       "  background-color: var(--sklearn-color-background);\n",
       "}\n",
       "\n",
       "#sk-container-id-1 div.sk-container {\n",
       "  /* jupyter's `normalize.less` sets `[hidden] { display: none; }`\n",
       "     but bootstrap.min.css set `[hidden] { display: none !important; }`\n",
       "     so we also need the `!important` here to be able to override the\n",
       "     default hidden behavior on the sphinx rendered scikit-learn.org.\n",
       "     See: https://github.com/scikit-learn/scikit-learn/issues/21755 */\n",
       "  display: inline-block !important;\n",
       "  position: relative;\n",
       "}\n",
       "\n",
       "#sk-container-id-1 div.sk-text-repr-fallback {\n",
       "  display: none;\n",
       "}\n",
       "\n",
       "div.sk-parallel-item,\n",
       "div.sk-serial,\n",
       "div.sk-item {\n",
       "  /* draw centered vertical line to link estimators */\n",
       "  background-image: linear-gradient(var(--sklearn-color-text-on-default-background), var(--sklearn-color-text-on-default-background));\n",
       "  background-size: 2px 100%;\n",
       "  background-repeat: no-repeat;\n",
       "  background-position: center center;\n",
       "}\n",
       "\n",
       "/* Parallel-specific style estimator block */\n",
       "\n",
       "#sk-container-id-1 div.sk-parallel-item::after {\n",
       "  content: \"\";\n",
       "  width: 100%;\n",
       "  border-bottom: 2px solid var(--sklearn-color-text-on-default-background);\n",
       "  flex-grow: 1;\n",
       "}\n",
       "\n",
       "#sk-container-id-1 div.sk-parallel {\n",
       "  display: flex;\n",
       "  align-items: stretch;\n",
       "  justify-content: center;\n",
       "  background-color: var(--sklearn-color-background);\n",
       "  position: relative;\n",
       "}\n",
       "\n",
       "#sk-container-id-1 div.sk-parallel-item {\n",
       "  display: flex;\n",
       "  flex-direction: column;\n",
       "}\n",
       "\n",
       "#sk-container-id-1 div.sk-parallel-item:first-child::after {\n",
       "  align-self: flex-end;\n",
       "  width: 50%;\n",
       "}\n",
       "\n",
       "#sk-container-id-1 div.sk-parallel-item:last-child::after {\n",
       "  align-self: flex-start;\n",
       "  width: 50%;\n",
       "}\n",
       "\n",
       "#sk-container-id-1 div.sk-parallel-item:only-child::after {\n",
       "  width: 0;\n",
       "}\n",
       "\n",
       "/* Serial-specific style estimator block */\n",
       "\n",
       "#sk-container-id-1 div.sk-serial {\n",
       "  display: flex;\n",
       "  flex-direction: column;\n",
       "  align-items: center;\n",
       "  background-color: var(--sklearn-color-background);\n",
       "  padding-right: 1em;\n",
       "  padding-left: 1em;\n",
       "}\n",
       "\n",
       "\n",
       "/* Toggleable style: style used for estimator/Pipeline/ColumnTransformer box that is\n",
       "clickable and can be expanded/collapsed.\n",
       "- Pipeline and ColumnTransformer use this feature and define the default style\n",
       "- Estimators will overwrite some part of the style using the `sk-estimator` class\n",
       "*/\n",
       "\n",
       "/* Pipeline and ColumnTransformer style (default) */\n",
       "\n",
       "#sk-container-id-1 div.sk-toggleable {\n",
       "  /* Default theme specific background. It is overwritten whether we have a\n",
       "  specific estimator or a Pipeline/ColumnTransformer */\n",
       "  background-color: var(--sklearn-color-background);\n",
       "}\n",
       "\n",
       "/* Toggleable label */\n",
       "#sk-container-id-1 label.sk-toggleable__label {\n",
       "  cursor: pointer;\n",
       "  display: block;\n",
       "  width: 100%;\n",
       "  margin-bottom: 0;\n",
       "  padding: 0.5em;\n",
       "  box-sizing: border-box;\n",
       "  text-align: center;\n",
       "}\n",
       "\n",
       "#sk-container-id-1 label.sk-toggleable__label-arrow:before {\n",
       "  /* Arrow on the left of the label */\n",
       "  content: \"▸\";\n",
       "  float: left;\n",
       "  margin-right: 0.25em;\n",
       "  color: var(--sklearn-color-icon);\n",
       "}\n",
       "\n",
       "#sk-container-id-1 label.sk-toggleable__label-arrow:hover:before {\n",
       "  color: var(--sklearn-color-text);\n",
       "}\n",
       "\n",
       "/* Toggleable content - dropdown */\n",
       "\n",
       "#sk-container-id-1 div.sk-toggleable__content {\n",
       "  max-height: 0;\n",
       "  max-width: 0;\n",
       "  overflow: hidden;\n",
       "  text-align: left;\n",
       "  /* unfitted */\n",
       "  background-color: var(--sklearn-color-unfitted-level-0);\n",
       "}\n",
       "\n",
       "#sk-container-id-1 div.sk-toggleable__content.fitted {\n",
       "  /* fitted */\n",
       "  background-color: var(--sklearn-color-fitted-level-0);\n",
       "}\n",
       "\n",
       "#sk-container-id-1 div.sk-toggleable__content pre {\n",
       "  margin: 0.2em;\n",
       "  border-radius: 0.25em;\n",
       "  color: var(--sklearn-color-text);\n",
       "  /* unfitted */\n",
       "  background-color: var(--sklearn-color-unfitted-level-0);\n",
       "}\n",
       "\n",
       "#sk-container-id-1 div.sk-toggleable__content.fitted pre {\n",
       "  /* unfitted */\n",
       "  background-color: var(--sklearn-color-fitted-level-0);\n",
       "}\n",
       "\n",
       "#sk-container-id-1 input.sk-toggleable__control:checked~div.sk-toggleable__content {\n",
       "  /* Expand drop-down */\n",
       "  max-height: 200px;\n",
       "  max-width: 100%;\n",
       "  overflow: auto;\n",
       "}\n",
       "\n",
       "#sk-container-id-1 input.sk-toggleable__control:checked~label.sk-toggleable__label-arrow:before {\n",
       "  content: \"▾\";\n",
       "}\n",
       "\n",
       "/* Pipeline/ColumnTransformer-specific style */\n",
       "\n",
       "#sk-container-id-1 div.sk-label input.sk-toggleable__control:checked~label.sk-toggleable__label {\n",
       "  color: var(--sklearn-color-text);\n",
       "  background-color: var(--sklearn-color-unfitted-level-2);\n",
       "}\n",
       "\n",
       "#sk-container-id-1 div.sk-label.fitted input.sk-toggleable__control:checked~label.sk-toggleable__label {\n",
       "  background-color: var(--sklearn-color-fitted-level-2);\n",
       "}\n",
       "\n",
       "/* Estimator-specific style */\n",
       "\n",
       "/* Colorize estimator box */\n",
       "#sk-container-id-1 div.sk-estimator input.sk-toggleable__control:checked~label.sk-toggleable__label {\n",
       "  /* unfitted */\n",
       "  background-color: var(--sklearn-color-unfitted-level-2);\n",
       "}\n",
       "\n",
       "#sk-container-id-1 div.sk-estimator.fitted input.sk-toggleable__control:checked~label.sk-toggleable__label {\n",
       "  /* fitted */\n",
       "  background-color: var(--sklearn-color-fitted-level-2);\n",
       "}\n",
       "\n",
       "#sk-container-id-1 div.sk-label label.sk-toggleable__label,\n",
       "#sk-container-id-1 div.sk-label label {\n",
       "  /* The background is the default theme color */\n",
       "  color: var(--sklearn-color-text-on-default-background);\n",
       "}\n",
       "\n",
       "/* On hover, darken the color of the background */\n",
       "#sk-container-id-1 div.sk-label:hover label.sk-toggleable__label {\n",
       "  color: var(--sklearn-color-text);\n",
       "  background-color: var(--sklearn-color-unfitted-level-2);\n",
       "}\n",
       "\n",
       "/* Label box, darken color on hover, fitted */\n",
       "#sk-container-id-1 div.sk-label.fitted:hover label.sk-toggleable__label.fitted {\n",
       "  color: var(--sklearn-color-text);\n",
       "  background-color: var(--sklearn-color-fitted-level-2);\n",
       "}\n",
       "\n",
       "/* Estimator label */\n",
       "\n",
       "#sk-container-id-1 div.sk-label label {\n",
       "  font-family: monospace;\n",
       "  font-weight: bold;\n",
       "  display: inline-block;\n",
       "  line-height: 1.2em;\n",
       "}\n",
       "\n",
       "#sk-container-id-1 div.sk-label-container {\n",
       "  text-align: center;\n",
       "}\n",
       "\n",
       "/* Estimator-specific */\n",
       "#sk-container-id-1 div.sk-estimator {\n",
       "  font-family: monospace;\n",
       "  border: 1px dotted var(--sklearn-color-border-box);\n",
       "  border-radius: 0.25em;\n",
       "  box-sizing: border-box;\n",
       "  margin-bottom: 0.5em;\n",
       "  /* unfitted */\n",
       "  background-color: var(--sklearn-color-unfitted-level-0);\n",
       "}\n",
       "\n",
       "#sk-container-id-1 div.sk-estimator.fitted {\n",
       "  /* fitted */\n",
       "  background-color: var(--sklearn-color-fitted-level-0);\n",
       "}\n",
       "\n",
       "/* on hover */\n",
       "#sk-container-id-1 div.sk-estimator:hover {\n",
       "  /* unfitted */\n",
       "  background-color: var(--sklearn-color-unfitted-level-2);\n",
       "}\n",
       "\n",
       "#sk-container-id-1 div.sk-estimator.fitted:hover {\n",
       "  /* fitted */\n",
       "  background-color: var(--sklearn-color-fitted-level-2);\n",
       "}\n",
       "\n",
       "/* Specification for estimator info (e.g. \"i\" and \"?\") */\n",
       "\n",
       "/* Common style for \"i\" and \"?\" */\n",
       "\n",
       ".sk-estimator-doc-link,\n",
       "a:link.sk-estimator-doc-link,\n",
       "a:visited.sk-estimator-doc-link {\n",
       "  float: right;\n",
       "  font-size: smaller;\n",
       "  line-height: 1em;\n",
       "  font-family: monospace;\n",
       "  background-color: var(--sklearn-color-background);\n",
       "  border-radius: 1em;\n",
       "  height: 1em;\n",
       "  width: 1em;\n",
       "  text-decoration: none !important;\n",
       "  margin-left: 1ex;\n",
       "  /* unfitted */\n",
       "  border: var(--sklearn-color-unfitted-level-1) 1pt solid;\n",
       "  color: var(--sklearn-color-unfitted-level-1);\n",
       "}\n",
       "\n",
       ".sk-estimator-doc-link.fitted,\n",
       "a:link.sk-estimator-doc-link.fitted,\n",
       "a:visited.sk-estimator-doc-link.fitted {\n",
       "  /* fitted */\n",
       "  border: var(--sklearn-color-fitted-level-1) 1pt solid;\n",
       "  color: var(--sklearn-color-fitted-level-1);\n",
       "}\n",
       "\n",
       "/* On hover */\n",
       "div.sk-estimator:hover .sk-estimator-doc-link:hover,\n",
       ".sk-estimator-doc-link:hover,\n",
       "div.sk-label-container:hover .sk-estimator-doc-link:hover,\n",
       ".sk-estimator-doc-link:hover {\n",
       "  /* unfitted */\n",
       "  background-color: var(--sklearn-color-unfitted-level-3);\n",
       "  color: var(--sklearn-color-background);\n",
       "  text-decoration: none;\n",
       "}\n",
       "\n",
       "div.sk-estimator.fitted:hover .sk-estimator-doc-link.fitted:hover,\n",
       ".sk-estimator-doc-link.fitted:hover,\n",
       "div.sk-label-container:hover .sk-estimator-doc-link.fitted:hover,\n",
       ".sk-estimator-doc-link.fitted:hover {\n",
       "  /* fitted */\n",
       "  background-color: var(--sklearn-color-fitted-level-3);\n",
       "  color: var(--sklearn-color-background);\n",
       "  text-decoration: none;\n",
       "}\n",
       "\n",
       "/* Span, style for the box shown on hovering the info icon */\n",
       ".sk-estimator-doc-link span {\n",
       "  display: none;\n",
       "  z-index: 9999;\n",
       "  position: relative;\n",
       "  font-weight: normal;\n",
       "  right: .2ex;\n",
       "  padding: .5ex;\n",
       "  margin: .5ex;\n",
       "  width: min-content;\n",
       "  min-width: 20ex;\n",
       "  max-width: 50ex;\n",
       "  color: var(--sklearn-color-text);\n",
       "  box-shadow: 2pt 2pt 4pt #999;\n",
       "  /* unfitted */\n",
       "  background: var(--sklearn-color-unfitted-level-0);\n",
       "  border: .5pt solid var(--sklearn-color-unfitted-level-3);\n",
       "}\n",
       "\n",
       ".sk-estimator-doc-link.fitted span {\n",
       "  /* fitted */\n",
       "  background: var(--sklearn-color-fitted-level-0);\n",
       "  border: var(--sklearn-color-fitted-level-3);\n",
       "}\n",
       "\n",
       ".sk-estimator-doc-link:hover span {\n",
       "  display: block;\n",
       "}\n",
       "\n",
       "/* \"?\"-specific style due to the `<a>` HTML tag */\n",
       "\n",
       "#sk-container-id-1 a.estimator_doc_link {\n",
       "  float: right;\n",
       "  font-size: 1rem;\n",
       "  line-height: 1em;\n",
       "  font-family: monospace;\n",
       "  background-color: var(--sklearn-color-background);\n",
       "  border-radius: 1rem;\n",
       "  height: 1rem;\n",
       "  width: 1rem;\n",
       "  text-decoration: none;\n",
       "  /* unfitted */\n",
       "  color: var(--sklearn-color-unfitted-level-1);\n",
       "  border: var(--sklearn-color-unfitted-level-1) 1pt solid;\n",
       "}\n",
       "\n",
       "#sk-container-id-1 a.estimator_doc_link.fitted {\n",
       "  /* fitted */\n",
       "  border: var(--sklearn-color-fitted-level-1) 1pt solid;\n",
       "  color: var(--sklearn-color-fitted-level-1);\n",
       "}\n",
       "\n",
       "/* On hover */\n",
       "#sk-container-id-1 a.estimator_doc_link:hover {\n",
       "  /* unfitted */\n",
       "  background-color: var(--sklearn-color-unfitted-level-3);\n",
       "  color: var(--sklearn-color-background);\n",
       "  text-decoration: none;\n",
       "}\n",
       "\n",
       "#sk-container-id-1 a.estimator_doc_link.fitted:hover {\n",
       "  /* fitted */\n",
       "  background-color: var(--sklearn-color-fitted-level-3);\n",
       "}\n",
       "</style><div id=\"sk-container-id-1\" class=\"sk-top-container\"><div class=\"sk-text-repr-fallback\"><pre>HistGradientBoostingClassifier(learning_rate=0.06, max_depth=10, max_iter=110,\n",
       "                               random_state=42)</pre><b>In a Jupyter environment, please rerun this cell to show the HTML representation or trust the notebook. <br />On GitHub, the HTML representation is unable to render, please try loading this page with nbviewer.org.</b></div><div class=\"sk-container\" hidden><div class=\"sk-item\"><div class=\"sk-estimator fitted sk-toggleable\"><input class=\"sk-toggleable__control sk-hidden--visually\" id=\"sk-estimator-id-1\" type=\"checkbox\" checked><label for=\"sk-estimator-id-1\" class=\"sk-toggleable__label fitted sk-toggleable__label-arrow fitted\">&nbsp;&nbsp;HistGradientBoostingClassifier<a class=\"sk-estimator-doc-link fitted\" rel=\"noreferrer\" target=\"_blank\" href=\"https://scikit-learn.org/1.5/modules/generated/sklearn.ensemble.HistGradientBoostingClassifier.html\">?<span>Documentation for HistGradientBoostingClassifier</span></a><span class=\"sk-estimator-doc-link fitted\">i<span>Fitted</span></span></label><div class=\"sk-toggleable__content fitted\"><pre>HistGradientBoostingClassifier(learning_rate=0.06, max_depth=10, max_iter=110,\n",
       "                               random_state=42)</pre></div> </div></div></div></div>"
      ]
     },
     "execution_count": 12,
     "metadata": {},
     "output_type": "execute_result"
    }
   ],
   "execution_count": 12
  },
  {
   "metadata": {
    "ExecuteTime": {
     "end_time": "2024-12-12T11:27:30.418344Z",
     "start_time": "2024-12-12T11:27:29.861974Z"
    }
   },
   "cell_type": "code",
   "source": [
    "# Evaluate the model\n",
    "accuracy_train = hgb_model.score(X_scaled, y_encoded)\n",
    "print(f\"Train Accuracy: {accuracy_train:.4f}\")\n",
    "print(classification_report(y_encoded, hgb_model.predict(X_scaled)))"
   ],
   "outputs": [
    {
     "name": "stdout",
     "output_type": "stream",
     "text": [
      "Train Accuracy: 0.8504\n",
      "              precision    recall  f1-score   support\n",
      "\n",
      "           0       0.92      0.84      0.88     20237\n",
      "           1       0.70      0.66      0.68     11952\n",
      "           2       0.87      0.93      0.90     29025\n",
      "\n",
      "    accuracy                           0.85     61214\n",
      "   macro avg       0.83      0.81      0.82     61214\n",
      "weighted avg       0.85      0.85      0.85     61214\n",
      "\n"
     ]
    }
   ],
   "execution_count": 13
  },
  {
   "metadata": {
    "ExecuteTime": {
     "end_time": "2024-12-12T11:27:34.668932Z",
     "start_time": "2024-12-12T11:27:33.596933Z"
    }
   },
   "cell_type": "code",
   "source": [
    "n_classes = len(np.unique(y_encoded))\n",
    "class_accuracies = np.zeros((hgb_model.max_iter, n_classes))\n",
    "\n",
    "\n",
    "for i, y_pred in enumerate(hgb_model.staged_predict(X_scaled)):\n",
    "    for cls in range(n_classes):\n",
    "        mask = y_encoded == cls\n",
    "        class_accuracies[i, cls] = accuracy_score(y_encoded[mask], y_pred[mask])\n",
    "\n",
    "plt.figure(figsize=(10, 6))\n",
    "for cls in range(n_classes):\n",
    "    plt.plot(class_accuracies[:, cls], label=f\"Class {cls}\")\n",
    "\n",
    "plt.title(\"Class-wise Accuracy over Boosting Iterations\")\n",
    "plt.xlabel(\"Boosting Iterations\")\n",
    "plt.ylabel(\"Accuracy\")\n",
    "plt.legend()\n",
    "plt.grid()\n",
    "plt.show()"
   ],
   "outputs": [
    {
     "data": {
      "text/plain": [
       "<Figure size 1000x600 with 1 Axes>"
      ],
      "image/png": "[encoded data removed]"
     },
     "metadata": {},
     "output_type": "display_data"
    }
   ],
   "execution_count": 14
  },
  {
   "metadata": {
    "ExecuteTime": {
     "end_time": "2024-12-12T11:27:36.720898Z",
     "start_time": "2024-12-12T11:27:36.652845Z"
    }
   },
   "cell_type": "code",
   "source": [
    "y_val_pred = hgb_model.predict(X_val_scaled)\n",
    "accuracy_val = accuracy_score(y_val_encoded, y_val_pred)\n",
    "\n",
    "print(f\"Validation Accuracy: {accuracy_val:.4f}\")\n",
    "print(classification_report(y_val_encoded, y_val_pred))"
   ],
   "outputs": [
    {
     "name": "stdout",
     "output_type": "stream",
     "text": [
      "Validation Accuracy: 0.8289\n",
      "              precision    recall  f1-score   support\n",
      "\n",
      "           0       0.90      0.83      0.86      5059\n",
      "           1       0.64      0.61      0.63      2988\n",
      "           2       0.85      0.92      0.88      7257\n",
      "\n",
      "    accuracy                           0.83     15304\n",
      "   macro avg       0.80      0.79      0.79     15304\n",
      "weighted avg       0.83      0.83      0.83     15304\n",
      "\n"
     ]
    }
   ],
   "execution_count": 15
  },
  {
   "metadata": {
    "ExecuteTime": {
     "end_time": "2024-12-12T11:27:39.337731Z",
     "start_time": "2024-12-12T11:27:38.986131Z"
    }
   },
   "cell_type": "code",
   "source": [
    "n_classes = len(np.unique(y_val_encoded))\n",
    "class_accuracies = np.zeros((hgb_model.max_iter, n_classes))\n",
    "\n",
    "for i, y_pred in enumerate(hgb_model.staged_predict(X_val_scaled)):\n",
    "    for cls in range(n_classes):\n",
    "        mask = y_val_encoded == cls\n",
    "        class_accuracies[i, cls] = accuracy_score(y_val_encoded[mask], y_pred[mask])\n",
    "        \n",
    "plt.figure(figsize=(10, 6))\n",
    "for cls in range(n_classes):\n",
    "    plt.plot(class_accuracies[:, cls], label=f\"Class {cls}\")\n",
    "    \n",
    "plt.title(\"Class-wise Accuracy over Boosting Iterations\")\n",
    "plt.xlabel(\"Boosting Iterations\")\n",
    "plt.ylabel(\"Accuracy\")\n",
    "plt.legend()\n",
    "plt.grid()\n",
    "plt.show()"
   ],
   "outputs": [
    {
     "data": {
      "text/plain": [
       "<Figure size 1000x600 with 1 Axes>"
      ],
      "image/png": "[encoded data removed]"
     },
     "metadata": {},
     "output_type": "display_data"
    }
   ],
   "execution_count": 16
  },
  {
   "metadata": {
    "ExecuteTime": {
     "end_time": "2024-12-12T11:27:44.472913Z",
     "start_time": "2024-12-12T11:27:44.306293Z"
    }
   },
   "cell_type": "code",
   "source": [
    "original_labels = label_encoder.inverse_transform(y_val_encoded)\n",
    "pred_labels = label_encoder.inverse_transform(y_val_pred)\n",
    "\n",
    "cm = confusion_matrix(original_labels, pred_labels)\n",
    "sns.heatmap(cm, annot=True, fmt='d', cmap='Blues')"
   ],
   "outputs": [
    {
     "data": {
      "text/plain": [
       "<Axes: >"
      ]
     },
     "execution_count": 17,
     "metadata": {},
     "output_type": "execute_result"
    },
    {
     "data": {
      "text/plain": [
       "<Figure size 640x480 with 2 Axes>"
      ],
      "image/png": "[encoded data removed]"
     },
     "metadata": {},
     "output_type": "display_data"
    }
   ],
   "execution_count": 17
  },
  {
   "metadata": {
    "ExecuteTime": {
     "end_time": "2024-12-12T11:27:47.213834Z",
     "start_time": "2024-12-12T11:27:47.003497Z"
    }
   },
   "cell_type": "code",
   "source": [
    "y_test_gbc = hgb_model.predict(X_test_scaled)\n",
    "y_test_gbc = label_encoder.inverse_transform(y_test_gbc)\n",
    "\n",
    "submission = pd.DataFrame(\n",
    "    {'id': test_data[\"id\"], 'Target': y_test_gbc},\n",
    "    columns=['id', 'Target']\n",
    ")\n",
    "submission.to_csv('submission.csv', index=False)\n",
    "print(\"Submission file saved as 'submission.csv'\")"
   ],
   "outputs": [
    {
     "name": "stdout",
     "output_type": "stream",
     "text": [
      "Submission file saved as 'submission.csv'\n"
     ]
    }
   ],
   "execution_count": 18
  },
  {
   "cell_type": "markdown",
   "metadata": {},
   "source": [
    "## Juan"
   ]
  },
  {
   "cell_type": "code",
   "metadata": {
    "ExecuteTime": {
     "end_time": "2024-12-12T11:27:49.890Z",
     "start_time": "2024-12-12T11:27:49.805631Z"
    }
   },
   "source": [
    "train_data.describe(include='all')"
   ],
   "outputs": [
    {
     "data": {
      "text/plain": [
       "                  id  Marital status  Application mode  Application order  \\\n",
       "count   76518.000000    76518.000000      76518.000000       76518.000000   \n",
       "unique           NaN             NaN               NaN                NaN   \n",
       "top              NaN             NaN               NaN                NaN   \n",
       "freq             NaN             NaN               NaN                NaN   \n",
       "mean    38258.500000        1.111934         16.054419           1.644410   \n",
       "std     22088.988286        0.441669         16.682337           1.229645   \n",
       "min         0.000000        1.000000          1.000000           0.000000   \n",
       "25%     19129.250000        1.000000          1.000000           1.000000   \n",
       "50%     38258.500000        1.000000         17.000000           1.000000   \n",
       "75%     57387.750000        1.000000         39.000000           2.000000   \n",
       "max     76517.000000        6.000000         53.000000           9.000000   \n",
       "\n",
       "              Course  Daytime/evening attendance  Previous qualification  \\\n",
       "count   76518.000000                76518.000000            76518.000000   \n",
       "unique           NaN                         NaN                     NaN   \n",
       "top              NaN                         NaN                     NaN   \n",
       "freq             NaN                         NaN                     NaN   \n",
       "mean     9001.286377                    0.915314                3.658760   \n",
       "std      1803.438531                    0.278416                8.623774   \n",
       "min        33.000000                    0.000000                1.000000   \n",
       "25%      9119.000000                    1.000000                1.000000   \n",
       "50%      9254.000000                    1.000000                1.000000   \n",
       "75%      9670.000000                    1.000000                1.000000   \n",
       "max      9991.000000                    1.000000               43.000000   \n",
       "\n",
       "        Previous qualification (grade)   Nacionality  Mother's qualification  \\\n",
       "count                     76518.000000  76518.000000            76518.000000   \n",
       "unique                             NaN           NaN                     NaN   \n",
       "top                                NaN           NaN                     NaN   \n",
       "freq                               NaN           NaN                     NaN   \n",
       "mean                        132.378766      1.226600               19.837633   \n",
       "std                          10.995328      3.392183               15.399456   \n",
       "min                          95.000000      1.000000                1.000000   \n",
       "25%                         125.000000      1.000000                1.000000   \n",
       "50%                         133.100000      1.000000               19.000000   \n",
       "75%                         140.000000      1.000000               37.000000   \n",
       "max                         190.000000    109.000000               44.000000   \n",
       "\n",
       "        ...  Curricular units 2nd sem (credited)  \\\n",
       "count   ...                         76518.000000   \n",
       "unique  ...                                  NaN   \n",
       "top     ...                                  NaN   \n",
       "freq    ...                                  NaN   \n",
       "mean    ...                             0.137053   \n",
       "std     ...                             0.933830   \n",
       "min     ...                             0.000000   \n",
       "25%     ...                             0.000000   \n",
       "50%     ...                             0.000000   \n",
       "75%     ...                             0.000000   \n",
       "max     ...                            19.000000   \n",
       "\n",
       "        Curricular units 2nd sem (enrolled)  \\\n",
       "count                          76518.000000   \n",
       "unique                                  NaN   \n",
       "top                                     NaN   \n",
       "freq                                    NaN   \n",
       "mean                               5.933414   \n",
       "std                                1.627182   \n",
       "min                                0.000000   \n",
       "25%                                5.000000   \n",
       "50%                                6.000000   \n",
       "75%                                6.000000   \n",
       "max                               23.000000   \n",
       "\n",
       "        Curricular units 2nd sem (evaluations)  \\\n",
       "count                             76518.000000   \n",
       "unique                                     NaN   \n",
       "top                                        NaN   \n",
       "freq                                       NaN   \n",
       "mean                                  7.234468   \n",
       "std                                   3.503040   \n",
       "min                                   0.000000   \n",
       "25%                                   6.000000   \n",
       "50%                                   7.000000   \n",
       "75%                                   9.000000   \n",
       "max                                  33.000000   \n",
       "\n",
       "        Curricular units 2nd sem (approved)  Curricular units 2nd sem (grade)  \\\n",
       "count                          76518.000000                      76518.000000   \n",
       "unique                                  NaN                               NaN   \n",
       "top                                     NaN                               NaN   \n",
       "freq                                    NaN                               NaN   \n",
       "mean                               4.007201                          9.626085   \n",
       "std                                2.772956                          5.546035   \n",
       "min                                0.000000                          0.000000   \n",
       "25%                                1.000000                         10.000000   \n",
       "50%                                5.000000                         12.142857   \n",
       "75%                                6.000000                         13.244048   \n",
       "max                               20.000000                         18.000000   \n",
       "\n",
       "        Curricular units 2nd sem (without evaluations)  Unemployment rate  \\\n",
       "count                                     76518.000000       76518.000000   \n",
       "unique                                             NaN                NaN   \n",
       "top                                                NaN                NaN   \n",
       "freq                                               NaN                NaN   \n",
       "mean                                          0.062443          11.520340   \n",
       "std                                           0.462107           2.653375   \n",
       "min                                           0.000000           7.600000   \n",
       "25%                                           0.000000           9.400000   \n",
       "50%                                           0.000000          11.100000   \n",
       "75%                                           0.000000          12.700000   \n",
       "max                                          12.000000          16.200000   \n",
       "\n",
       "        Inflation rate           GDP    Target  \n",
       "count     76518.000000  76518.000000     76518  \n",
       "unique             NaN           NaN         3  \n",
       "top                NaN           NaN  Graduate  \n",
       "freq               NaN           NaN     36282  \n",
       "mean          1.228218     -0.080921       NaN  \n",
       "std           1.398816      2.251382       NaN  \n",
       "min          -0.800000     -4.060000       NaN  \n",
       "25%           0.300000     -1.700000       NaN  \n",
       "50%           1.400000      0.320000       NaN  \n",
       "75%           2.600000      1.790000       NaN  \n",
       "max           3.700000      3.510000       NaN  \n",
       "\n",
       "[11 rows x 38 columns]"
      ],
      "text/html": [
       "<div>\n",
       "<style scoped>\n",
       "    .dataframe tbody tr th:only-of-type {\n",
       "        vertical-align: middle;\n",
       "    }\n",
       "\n",
       "    .dataframe tbody tr th {\n",
       "        vertical-align: top;\n",
       "    }\n",
       "\n",
       "    .dataframe thead th {\n",
       "        text-align: right;\n",
       "    }\n",
       "</style>\n",
       "<table border=\"1\" class=\"dataframe\">\n",
       "  <thead>\n",
       "    <tr style=\"text-align: right;\">\n",
       "      <th></th>\n",
       "      <th>id</th>\n",
       "      <th>Marital status</th>\n",
       "      <th>Application mode</th>\n",
       "      <th>Application order</th>\n",
       "      <th>Course</th>\n",
       "      <th>Daytime/evening attendance</th>\n",
       "      <th>Previous qualification</th>\n",
       "      <th>Previous qualification (grade)</th>\n",
       "      <th>Nacionality</th>\n",
       "      <th>Mother's qualification</th>\n",
       "      <th>...</th>\n",
       "      <th>Curricular units 2nd sem (credited)</th>\n",
       "      <th>Curricular units 2nd sem (enrolled)</th>\n",
       "      <th>Curricular units 2nd sem (evaluations)</th>\n",
       "      <th>Curricular units 2nd sem (approved)</th>\n",
       "      <th>Curricular units 2nd sem (grade)</th>\n",
       "      <th>Curricular units 2nd sem (without evaluations)</th>\n",
       "      <th>Unemployment rate</th>\n",
       "      <th>Inflation rate</th>\n",
       "      <th>GDP</th>\n",
       "      <th>Target</th>\n",
       "    </tr>\n",
       "  </thead>\n",
       "  <tbody>\n",
       "    <tr>\n",
       "      <th>count</th>\n",
       "      <td>76518.000000</td>\n",
       "      <td>76518.000000</td>\n",
       "      <td>76518.000000</td>\n",
       "      <td>76518.000000</td>\n",
       "      <td>76518.000000</td>\n",
       "      <td>76518.000000</td>\n",
       "      <td>76518.000000</td>\n",
       "      <td>76518.000000</td>\n",
       "      <td>76518.000000</td>\n",
       "      <td>76518.000000</td>\n",
       "      <td>...</td>\n",
       "      <td>76518.000000</td>\n",
       "      <td>76518.000000</td>\n",
       "      <td>76518.000000</td>\n",
       "      <td>76518.000000</td>\n",
       "      <td>76518.000000</td>\n",
       "      <td>76518.000000</td>\n",
       "      <td>76518.000000</td>\n",
       "      <td>76518.000000</td>\n",
       "      <td>76518.000000</td>\n",
       "      <td>76518</td>\n",
       "    </tr>\n",
       "    <tr>\n",
       "      <th>unique</th>\n",
       "      <td>NaN</td>\n",
       "      <td>NaN</td>\n",
       "      <td>NaN</td>\n",
       "      <td>NaN</td>\n",
       "      <td>NaN</td>\n",
       "      <td>NaN</td>\n",
       "      <td>NaN</td>\n",
       "      <td>NaN</td>\n",
       "      <td>NaN</td>\n",
       "      <td>NaN</td>\n",
       "      <td>...</td>\n",
       "      <td>NaN</td>\n",
       "      <td>NaN</td>\n",
       "      <td>NaN</td>\n",
       "      <td>NaN</td>\n",
       "      <td>NaN</td>\n",
       "      <td>NaN</td>\n",
       "      <td>NaN</td>\n",
       "      <td>NaN</td>\n",
       "      <td>NaN</td>\n",
       "      <td>3</td>\n",
       "    </tr>\n",
       "    <tr>\n",
       "      <th>top</th>\n",
       "      <td>NaN</td>\n",
       "      <td>NaN</td>\n",
       "      <td>NaN</td>\n",
       "      <td>NaN</td>\n",
       "      <td>NaN</td>\n",
       "      <td>NaN</td>\n",
       "      <td>NaN</td>\n",
       "      <td>NaN</td>\n",
       "      <td>NaN</td>\n",
       "      <td>NaN</td>\n",
       "      <td>...</td>\n",
       "      <td>NaN</td>\n",
       "      <td>NaN</td>\n",
       "      <td>NaN</td>\n",
       "      <td>NaN</td>\n",
       "      <td>NaN</td>\n",
       "      <td>NaN</td>\n",
       "      <td>NaN</td>\n",
       "      <td>NaN</td>\n",
       "      <td>NaN</td>\n",
       "      <td>Graduate</td>\n",
       "    </tr>\n",
       "    <tr>\n",
       "      <th>freq</th>\n",
       "      <td>NaN</td>\n",
       "      <td>NaN</td>\n",
       "      <td>NaN</td>\n",
       "      <td>NaN</td>\n",
       "      <td>NaN</td>\n",
       "      <td>NaN</td>\n",
       "      <td>NaN</td>\n",
       "      <td>NaN</td>\n",
       "      <td>NaN</td>\n",
       "      <td>NaN</td>\n",
       "      <td>...</td>\n",
       "      <td>NaN</td>\n",
       "      <td>NaN</td>\n",
       "      <td>NaN</td>\n",
       "      <td>NaN</td>\n",
       "      <td>NaN</td>\n",
       "      <td>NaN</td>\n",
       "      <td>NaN</td>\n",
       "      <td>NaN</td>\n",
       "      <td>NaN</td>\n",
       "      <td>36282</td>\n",
       "    </tr>\n",
       "    <tr>\n",
       "      <th>mean</th>\n",
       "      <td>38258.500000</td>\n",
       "      <td>1.111934</td>\n",
       "      <td>16.054419</td>\n",
       "      <td>1.644410</td>\n",
       "      <td>9001.286377</td>\n",
       "      <td>0.915314</td>\n",
       "      <td>3.658760</td>\n",
       "      <td>132.378766</td>\n",
       "      <td>1.226600</td>\n",
       "      <td>19.837633</td>\n",
       "      <td>...</td>\n",
       "      <td>0.137053</td>\n",
       "      <td>5.933414</td>\n",
       "      <td>7.234468</td>\n",
       "      <td>4.007201</td>\n",
       "      <td>9.626085</td>\n",
       "      <td>0.062443</td>\n",
       "      <td>11.520340</td>\n",
       "      <td>1.228218</td>\n",
       "      <td>-0.080921</td>\n",
       "      <td>NaN</td>\n",
       "    </tr>\n",
       "    <tr>\n",
       "      <th>std</th>\n",
       "      <td>22088.988286</td>\n",
       "      <td>0.441669</td>\n",
       "      <td>16.682337</td>\n",
       "      <td>1.229645</td>\n",
       "      <td>1803.438531</td>\n",
       "      <td>0.278416</td>\n",
       "      <td>8.623774</td>\n",
       "      <td>10.995328</td>\n",
       "      <td>3.392183</td>\n",
       "      <td>15.399456</td>\n",
       "      <td>...</td>\n",
       "      <td>0.933830</td>\n",
       "      <td>1.627182</td>\n",
       "      <td>3.503040</td>\n",
       "      <td>2.772956</td>\n",
       "      <td>5.546035</td>\n",
       "      <td>0.462107</td>\n",
       "      <td>2.653375</td>\n",
       "      <td>1.398816</td>\n",
       "      <td>2.251382</td>\n",
       "      <td>NaN</td>\n",
       "    </tr>\n",
       "    <tr>\n",
       "      <th>min</th>\n",
       "      <td>0.000000</td>\n",
       "      <td>1.000000</td>\n",
       "      <td>1.000000</td>\n",
       "      <td>0.000000</td>\n",
       "      <td>33.000000</td>\n",
       "      <td>0.000000</td>\n",
       "      <td>1.000000</td>\n",
       "      <td>95.000000</td>\n",
       "      <td>1.000000</td>\n",
       "      <td>1.000000</td>\n",
       "      <td>...</td>\n",
       "      <td>0.000000</td>\n",
       "      <td>0.000000</td>\n",
       "      <td>0.000000</td>\n",
       "      <td>0.000000</td>\n",
       "      <td>0.000000</td>\n",
       "      <td>0.000000</td>\n",
       "      <td>7.600000</td>\n",
       "      <td>-0.800000</td>\n",
       "      <td>-4.060000</td>\n",
       "      <td>NaN</td>\n",
       "    </tr>\n",
       "    <tr>\n",
       "      <th>25%</th>\n",
       "      <td>19129.250000</td>\n",
       "      <td>1.000000</td>\n",
       "      <td>1.000000</td>\n",
       "      <td>1.000000</td>\n",
       "      <td>9119.000000</td>\n",
       "      <td>1.000000</td>\n",
       "      <td>1.000000</td>\n",
       "      <td>125.000000</td>\n",
       "      <td>1.000000</td>\n",
       "      <td>1.000000</td>\n",
       "      <td>...</td>\n",
       "      <td>0.000000</td>\n",
       "      <td>5.000000</td>\n",
       "      <td>6.000000</td>\n",
       "      <td>1.000000</td>\n",
       "      <td>10.000000</td>\n",
       "      <td>0.000000</td>\n",
       "      <td>9.400000</td>\n",
       "      <td>0.300000</td>\n",
       "      <td>-1.700000</td>\n",
       "      <td>NaN</td>\n",
       "    </tr>\n",
       "    <tr>\n",
       "      <th>50%</th>\n",
       "      <td>38258.500000</td>\n",
       "      <td>1.000000</td>\n",
       "      <td>17.000000</td>\n",
       "      <td>1.000000</td>\n",
       "      <td>9254.000000</td>\n",
       "      <td>1.000000</td>\n",
       "      <td>1.000000</td>\n",
       "      <td>133.100000</td>\n",
       "      <td>1.000000</td>\n",
       "      <td>19.000000</td>\n",
       "      <td>...</td>\n",
       "      <td>0.000000</td>\n",
       "      <td>6.000000</td>\n",
       "      <td>7.000000</td>\n",
       "      <td>5.000000</td>\n",
       "      <td>12.142857</td>\n",
       "      <td>0.000000</td>\n",
       "      <td>11.100000</td>\n",
       "      <td>1.400000</td>\n",
       "      <td>0.320000</td>\n",
       "      <td>NaN</td>\n",
       "    </tr>\n",
       "    <tr>\n",
       "      <th>75%</th>\n",
       "      <td>57387.750000</td>\n",
       "      <td>1.000000</td>\n",
       "      <td>39.000000</td>\n",
       "      <td>2.000000</td>\n",
       "      <td>9670.000000</td>\n",
       "      <td>1.000000</td>\n",
       "      <td>1.000000</td>\n",
       "      <td>140.000000</td>\n",
       "      <td>1.000000</td>\n",
       "      <td>37.000000</td>\n",
       "      <td>...</td>\n",
       "      <td>0.000000</td>\n",
       "      <td>6.000000</td>\n",
       "      <td>9.000000</td>\n",
       "      <td>6.000000</td>\n",
       "      <td>13.244048</td>\n",
       "      <td>0.000000</td>\n",
       "      <td>12.700000</td>\n",
       "      <td>2.600000</td>\n",
       "      <td>1.790000</td>\n",
       "      <td>NaN</td>\n",
       "    </tr>\n",
       "    <tr>\n",
       "      <th>max</th>\n",
       "      <td>76517.000000</td>\n",
       "      <td>6.000000</td>\n",
       "      <td>53.000000</td>\n",
       "      <td>9.000000</td>\n",
       "      <td>9991.000000</td>\n",
       "      <td>1.000000</td>\n",
       "      <td>43.000000</td>\n",
       "      <td>190.000000</td>\n",
       "      <td>109.000000</td>\n",
       "      <td>44.000000</td>\n",
       "      <td>...</td>\n",
       "      <td>19.000000</td>\n",
       "      <td>23.000000</td>\n",
       "      <td>33.000000</td>\n",
       "      <td>20.000000</td>\n",
       "      <td>18.000000</td>\n",
       "      <td>12.000000</td>\n",
       "      <td>16.200000</td>\n",
       "      <td>3.700000</td>\n",
       "      <td>3.510000</td>\n",
       "      <td>NaN</td>\n",
       "    </tr>\n",
       "  </tbody>\n",
       "</table>\n",
       "<p>11 rows × 38 columns</p>\n",
       "</div>"
      ]
     },
     "execution_count": 19,
     "metadata": {},
     "output_type": "execute_result"
    }
   ],
   "execution_count": 19
  },
  {
   "cell_type": "code",
   "metadata": {
    "ExecuteTime": {
     "end_time": "2024-12-12T11:27:53.762131Z",
     "start_time": "2024-12-12T11:27:53.748593Z"
    }
   },
   "source": [
    "train_data.head()"
   ],
   "outputs": [
    {
     "data": {
      "text/plain": [
       "   id  Marital status  Application mode  Application order  Course  \\\n",
       "0   0               1                 1                  1    9238   \n",
       "1   1               1                17                  1    9238   \n",
       "2   2               1                17                  2    9254   \n",
       "3   3               1                 1                  3    9500   \n",
       "4   4               1                 1                  2    9500   \n",
       "\n",
       "   Daytime/evening attendance  Previous qualification  \\\n",
       "0                           1                       1   \n",
       "1                           1                       1   \n",
       "2                           1                       1   \n",
       "3                           1                       1   \n",
       "4                           1                       1   \n",
       "\n",
       "   Previous qualification (grade)  Nacionality  Mother's qualification  ...  \\\n",
       "0                           126.0            1                       1  ...   \n",
       "1                           125.0            1                      19  ...   \n",
       "2                           137.0            1                       3  ...   \n",
       "3                           131.0            1                      19  ...   \n",
       "4                           132.0            1                      19  ...   \n",
       "\n",
       "   Curricular units 2nd sem (credited)  Curricular units 2nd sem (enrolled)  \\\n",
       "0                                    0                                    6   \n",
       "1                                    0                                    6   \n",
       "2                                    0                                    6   \n",
       "3                                    0                                    8   \n",
       "4                                    0                                    7   \n",
       "\n",
       "   Curricular units 2nd sem (evaluations)  \\\n",
       "0                                       7   \n",
       "1                                       9   \n",
       "2                                       0   \n",
       "3                                      11   \n",
       "4                                      12   \n",
       "\n",
       "   Curricular units 2nd sem (approved)  Curricular units 2nd sem (grade)  \\\n",
       "0                                    6                         12.428571   \n",
       "1                                    0                          0.000000   \n",
       "2                                    0                          0.000000   \n",
       "3                                    7                         12.820000   \n",
       "4                                    6                         12.933333   \n",
       "\n",
       "   Curricular units 2nd sem (without evaluations)  Unemployment rate  \\\n",
       "0                                               0               11.1   \n",
       "1                                               0               11.1   \n",
       "2                                               0               16.2   \n",
       "3                                               0               11.1   \n",
       "4                                               0                7.6   \n",
       "\n",
       "   Inflation rate   GDP    Target  \n",
       "0             0.6  2.02  Graduate  \n",
       "1             0.6  2.02   Dropout  \n",
       "2             0.3 -0.92   Dropout  \n",
       "3             0.6  2.02  Enrolled  \n",
       "4             2.6  0.32  Graduate  \n",
       "\n",
       "[5 rows x 38 columns]"
      ],
      "text/html": [
       "<div>\n",
       "<style scoped>\n",
       "    .dataframe tbody tr th:only-of-type {\n",
       "        vertical-align: middle;\n",
       "    }\n",
       "\n",
       "    .dataframe tbody tr th {\n",
       "        vertical-align: top;\n",
       "    }\n",
       "\n",
       "    .dataframe thead th {\n",
       "        text-align: right;\n",
       "    }\n",
       "</style>\n",
       "<table border=\"1\" class=\"dataframe\">\n",
       "  <thead>\n",
       "    <tr style=\"text-align: right;\">\n",
       "      <th></th>\n",
       "      <th>id</th>\n",
       "      <th>Marital status</th>\n",
       "      <th>Application mode</th>\n",
       "      <th>Application order</th>\n",
       "      <th>Course</th>\n",
       "      <th>Daytime/evening attendance</th>\n",
       "      <th>Previous qualification</th>\n",
       "      <th>Previous qualification (grade)</th>\n",
       "      <th>Nacionality</th>\n",
       "      <th>Mother's qualification</th>\n",
       "      <th>...</th>\n",
       "      <th>Curricular units 2nd sem (credited)</th>\n",
       "      <th>Curricular units 2nd sem (enrolled)</th>\n",
       "      <th>Curricular units 2nd sem (evaluations)</th>\n",
       "      <th>Curricular units 2nd sem (approved)</th>\n",
       "      <th>Curricular units 2nd sem (grade)</th>\n",
       "      <th>Curricular units 2nd sem (without evaluations)</th>\n",
       "      <th>Unemployment rate</th>\n",
       "      <th>Inflation rate</th>\n",
       "      <th>GDP</th>\n",
       "      <th>Target</th>\n",
       "    </tr>\n",
       "  </thead>\n",
       "  <tbody>\n",
       "    <tr>\n",
       "      <th>0</th>\n",
       "      <td>0</td>\n",
       "      <td>1</td>\n",
       "      <td>1</td>\n",
       "      <td>1</td>\n",
       "      <td>9238</td>\n",
       "      <td>1</td>\n",
       "      <td>1</td>\n",
       "      <td>126.0</td>\n",
       "      <td>1</td>\n",
       "      <td>1</td>\n",
       "      <td>...</td>\n",
       "      <td>0</td>\n",
       "      <td>6</td>\n",
       "      <td>7</td>\n",
       "      <td>6</td>\n",
       "      <td>12.428571</td>\n",
       "      <td>0</td>\n",
       "      <td>11.1</td>\n",
       "      <td>0.6</td>\n",
       "      <td>2.02</td>\n",
       "      <td>Graduate</td>\n",
       "    </tr>\n",
       "    <tr>\n",
       "      <th>1</th>\n",
       "      <td>1</td>\n",
       "      <td>1</td>\n",
       "      <td>17</td>\n",
       "      <td>1</td>\n",
       "      <td>9238</td>\n",
       "      <td>1</td>\n",
       "      <td>1</td>\n",
       "      <td>125.0</td>\n",
       "      <td>1</td>\n",
       "      <td>19</td>\n",
       "      <td>...</td>\n",
       "      <td>0</td>\n",
       "      <td>6</td>\n",
       "      <td>9</td>\n",
       "      <td>0</td>\n",
       "      <td>0.000000</td>\n",
       "      <td>0</td>\n",
       "      <td>11.1</td>\n",
       "      <td>0.6</td>\n",
       "      <td>2.02</td>\n",
       "      <td>Dropout</td>\n",
       "    </tr>\n",
       "    <tr>\n",
       "      <th>2</th>\n",
       "      <td>2</td>\n",
       "      <td>1</td>\n",
       "      <td>17</td>\n",
       "      <td>2</td>\n",
       "      <td>9254</td>\n",
       "      <td>1</td>\n",
       "      <td>1</td>\n",
       "      <td>137.0</td>\n",
       "      <td>1</td>\n",
       "      <td>3</td>\n",
       "      <td>...</td>\n",
       "      <td>0</td>\n",
       "      <td>6</td>\n",
       "      <td>0</td>\n",
       "      <td>0</td>\n",
       "      <td>0.000000</td>\n",
       "      <td>0</td>\n",
       "      <td>16.2</td>\n",
       "      <td>0.3</td>\n",
       "      <td>-0.92</td>\n",
       "      <td>Dropout</td>\n",
       "    </tr>\n",
       "    <tr>\n",
       "      <th>3</th>\n",
       "      <td>3</td>\n",
       "      <td>1</td>\n",
       "      <td>1</td>\n",
       "      <td>3</td>\n",
       "      <td>9500</td>\n",
       "      <td>1</td>\n",
       "      <td>1</td>\n",
       "      <td>131.0</td>\n",
       "      <td>1</td>\n",
       "      <td>19</td>\n",
       "      <td>...</td>\n",
       "      <td>0</td>\n",
       "      <td>8</td>\n",
       "      <td>11</td>\n",
       "      <td>7</td>\n",
       "      <td>12.820000</td>\n",
       "      <td>0</td>\n",
       "      <td>11.1</td>\n",
       "      <td>0.6</td>\n",
       "      <td>2.02</td>\n",
       "      <td>Enrolled</td>\n",
       "    </tr>\n",
       "    <tr>\n",
       "      <th>4</th>\n",
       "      <td>4</td>\n",
       "      <td>1</td>\n",
       "      <td>1</td>\n",
       "      <td>2</td>\n",
       "      <td>9500</td>\n",
       "      <td>1</td>\n",
       "      <td>1</td>\n",
       "      <td>132.0</td>\n",
       "      <td>1</td>\n",
       "      <td>19</td>\n",
       "      <td>...</td>\n",
       "      <td>0</td>\n",
       "      <td>7</td>\n",
       "      <td>12</td>\n",
       "      <td>6</td>\n",
       "      <td>12.933333</td>\n",
       "      <td>0</td>\n",
       "      <td>7.6</td>\n",
       "      <td>2.6</td>\n",
       "      <td>0.32</td>\n",
       "      <td>Graduate</td>\n",
       "    </tr>\n",
       "  </tbody>\n",
       "</table>\n",
       "<p>5 rows × 38 columns</p>\n",
       "</div>"
      ]
     },
     "execution_count": 20,
     "metadata": {},
     "output_type": "execute_result"
    }
   ],
   "execution_count": 20
  },
  {
   "cell_type": "code",
   "metadata": {
    "ExecuteTime": {
     "end_time": "2024-12-12T11:27:55.990321Z",
     "start_time": "2024-12-12T11:27:55.985744Z"
    }
   },
   "source": [
    "train_data.dtypes"
   ],
   "outputs": [
    {
     "data": {
      "text/plain": [
       "id                                                  int64\n",
       "Marital status                                      int64\n",
       "Application mode                                    int64\n",
       "Application order                                   int64\n",
       "Course                                              int64\n",
       "Daytime/evening attendance                          int64\n",
       "Previous qualification                              int64\n",
       "Previous qualification (grade)                    float64\n",
       "Nacionality                                         int64\n",
       "Mother's qualification                              int64\n",
       "Father's qualification                              int64\n",
       "Mother's occupation                                 int64\n",
       "Father's occupation                                 int64\n",
       "Admission grade                                   float64\n",
       "Displaced                                           int64\n",
       "Educational special needs                           int64\n",
       "Debtor                                              int64\n",
       "Tuition fees up to date                             int64\n",
       "Gender                                              int64\n",
       "Scholarship holder                                  int64\n",
       "Age at enrollment                                   int64\n",
       "International                                       int64\n",
       "Curricular units 1st sem (credited)                 int64\n",
       "Curricular units 1st sem (enrolled)                 int64\n",
       "Curricular units 1st sem (evaluations)              int64\n",
       "Curricular units 1st sem (approved)                 int64\n",
       "Curricular units 1st sem (grade)                  float64\n",
       "Curricular units 1st sem (without evaluations)      int64\n",
       "Curricular units 2nd sem (credited)                 int64\n",
       "Curricular units 2nd sem (enrolled)                 int64\n",
       "Curricular units 2nd sem (evaluations)              int64\n",
       "Curricular units 2nd sem (approved)                 int64\n",
       "Curricular units 2nd sem (grade)                  float64\n",
       "Curricular units 2nd sem (without evaluations)      int64\n",
       "Unemployment rate                                 float64\n",
       "Inflation rate                                    float64\n",
       "GDP                                               float64\n",
       "Target                                             object\n",
       "dtype: object"
      ]
     },
     "execution_count": 21,
     "metadata": {},
     "output_type": "execute_result"
    }
   ],
   "execution_count": 21
  },
  {
   "cell_type": "code",
   "metadata": {
    "ExecuteTime": {
     "end_time": "2024-12-12T11:27:58.367262Z",
     "start_time": "2024-12-12T11:27:58.360219Z"
    }
   },
   "source": [
    "train_data.isnull().any(axis=1)"
   ],
   "outputs": [
    {
     "data": {
      "text/plain": [
       "0        False\n",
       "1        False\n",
       "2        False\n",
       "3        False\n",
       "4        False\n",
       "         ...  \n",
       "76513    False\n",
       "76514    False\n",
       "76515    False\n",
       "76516    False\n",
       "76517    False\n",
       "Length: 76518, dtype: bool"
      ]
     },
     "execution_count": 22,
     "metadata": {},
     "output_type": "execute_result"
    }
   ],
   "execution_count": 22
  },
  {
   "cell_type": "markdown",
   "metadata": {},
   "source": [
    "### Random forest\n"
   ]
  },
  {
   "metadata": {
    "ExecuteTime": {
     "end_time": "2024-12-12T11:29:35.586231Z",
     "start_time": "2024-12-12T11:28:01.276855Z"
    }
   },
   "cell_type": "code",
   "source": [
    "randomF1000 = RandomForestClassifier(\n",
    "    n_estimators=1000,\n",
    "    max_features=\"sqrt\",\n",
    "    max_depth=20,\n",
    "    min_samples_split=10,\n",
    "    min_samples_leaf=4,\n",
    "    bootstrap=False,\n",
    "    criterion=\"gini\",\n",
    "    random_state=42\n",
    ")\n",
    "\n",
    "randomF1000.fit(X_scaled, y_encoded)\n",
    "randomF1000.score(X_val_scaled, y_val_encoded)"
   ],
   "outputs": [
    {
     "data": {
      "text/plain": [
       "0.8260585467851542"
      ]
     },
     "execution_count": 23,
     "metadata": {},
     "output_type": "execute_result"
    }
   ],
   "execution_count": 23
  },
  {
   "metadata": {
    "ExecuteTime": {
     "end_time": "2024-12-12T11:29:41.176986Z",
     "start_time": "2024-12-12T11:29:38.984144Z"
    }
   },
   "cell_type": "code",
   "source": [
    "y_val_pred = randomF1000.predict(X_val_scaled)\n",
    "accuracy_val = accuracy_score(y_val_encoded, y_val_pred)\n",
    "print(f\"Validation Accuracy: {accuracy_val:.4f}\")\n",
    "print(classification_report(y_val_encoded, y_val_pred))"
   ],
   "outputs": [
    {
     "name": "stdout",
     "output_type": "stream",
     "text": [
      "Validation Accuracy: 0.8261\n",
      "              precision    recall  f1-score   support\n",
      "\n",
      "           0       0.90      0.82      0.86      5059\n",
      "           1       0.64      0.60      0.62      2988\n",
      "           2       0.85      0.92      0.88      7257\n",
      "\n",
      "    accuracy                           0.83     15304\n",
      "   macro avg       0.80      0.78      0.79     15304\n",
      "weighted avg       0.83      0.83      0.82     15304\n",
      "\n"
     ]
    }
   ],
   "execution_count": 24
  },
  {
   "metadata": {
    "ExecuteTime": {
     "end_time": "2024-12-12T11:29:43.358437Z",
     "start_time": "2024-12-12T11:29:43.221510Z"
    }
   },
   "cell_type": "code",
   "source": [
    "original_labels = label_encoder.inverse_transform(y_val_encoded)\n",
    "pred_labels = label_encoder.inverse_transform(y_val_pred)\n",
    "\n",
    "cm = confusion_matrix(original_labels, pred_labels)\n",
    "sns.heatmap(cm, annot=True, fmt='d', cmap='Blues')"
   ],
   "outputs": [
    {
     "data": {
      "text/plain": [
       "<Axes: >"
      ]
     },
     "execution_count": 25,
     "metadata": {},
     "output_type": "execute_result"
    },
    {
     "data": {
      "text/plain": [
       "<Figure size 640x480 with 2 Axes>"
      ],
      "image/png": "[encoded data removed]"
     },
     "metadata": {},
     "output_type": "display_data"
    }
   ],
   "execution_count": 25
  },
  {
   "cell_type": "code",
   "metadata": {
    "ExecuteTime": {
     "end_time": "2024-12-12T11:29:45.998824Z",
     "start_time": "2024-12-12T11:29:45.996339Z"
    }
   },
   "source": [
    "def submitModel(model, X_test):\n",
    "    Y_tilda = model.predict(X_test)\n",
    "    y_decoded = label_encoder.inverse_transform(Y_tilda)\n",
    "    submission = pd.DataFrame(\n",
    "        {'id': test_data[\"id\"], 'Target': y_decoded},\n",
    "        columns = ['id', 'Target'])\n",
    "    submission.to_csv('submission.csv', index = False)"
   ],
   "outputs": [],
   "execution_count": 26
  },
  {
   "cell_type": "code",
   "metadata": {
    "ExecuteTime": {
     "end_time": "2024-12-12T11:29:58.365759Z",
     "start_time": "2024-12-12T11:29:52.067297Z"
    }
   },
   "source": "submitModel(randomF1000, X_test_scaled)",
   "outputs": [],
   "execution_count": 27
  },
  {
   "cell_type": "markdown",
   "metadata": {},
   "source": [
    "## Fidan\n"
   ]
  },
  {
   "cell_type": "code",
   "metadata": {
    "ExecuteTime": {
     "end_time": "2024-12-12T11:30:07.532946Z",
     "start_time": "2024-12-12T11:30:07.414120Z"
    }
   },
   "source": [
    "dtrain = xgb.DMatrix(X_scaled, label=y_encoded)\n",
    "dval = xgb.DMatrix(X_val_scaled, label=y_val_encoded)\n",
    "dtest = xgb.DMatrix(X_test_scaled)"
   ],
   "outputs": [],
   "execution_count": 28
  },
  {
   "cell_type": "code",
   "metadata": {
    "ExecuteTime": {
     "end_time": "2024-12-12T11:30:09.192840Z",
     "start_time": "2024-12-12T11:30:09.190250Z"
    }
   },
   "source": [
    "params = {\n",
    "    \"objective\": \"multi:softmax\", \n",
    "    \"num_class\": len(np.unique(y_encoded)), \n",
    "    \"eval_metric\": \"mlogloss\",\n",
    "    \"eta\": 0.1, \n",
    "    \"max_depth\": 6\n",
    "}"
   ],
   "outputs": [],
   "execution_count": 29
  },
  {
   "cell_type": "code",
   "metadata": {
    "ExecuteTime": {
     "end_time": "2024-12-12T11:30:11.223805Z",
     "start_time": "2024-12-12T11:30:11.221442Z"
    }
   },
   "source": [
    "num_boost_round = 100\n",
    "early_stopping_rounds = 10\n",
    "evals = [(dtrain, 'train'), (dval, 'eval')]"
   ],
   "outputs": [],
   "execution_count": 30
  },
  {
   "cell_type": "code",
   "metadata": {
    "ExecuteTime": {
     "end_time": "2024-12-12T11:30:16.104579Z",
     "start_time": "2024-12-12T11:30:13.137305Z"
    }
   },
   "source": "xgb_model = xgb.train(params, dtrain, num_boost_round, evals=evals, early_stopping_rounds=early_stopping_rounds)",
   "outputs": [
    {
     "name": "stdout",
     "output_type": "stream",
     "text": [
      "[0]\ttrain-mlogloss:1.01246\teval-mlogloss:1.01328\n",
      "[1]\ttrain-mlogloss:0.94044\teval-mlogloss:0.94184\n",
      "[2]\ttrain-mlogloss:0.87940\teval-mlogloss:0.88135\n",
      "[3]\ttrain-mlogloss:0.82734\teval-mlogloss:0.83000\n",
      "[4]\ttrain-mlogloss:0.78226\teval-mlogloss:0.78548\n",
      "[5]\ttrain-mlogloss:0.74322\teval-mlogloss:0.74717\n",
      "[6]\ttrain-mlogloss:0.70923\teval-mlogloss:0.71375\n",
      "[7]\ttrain-mlogloss:0.67937\teval-mlogloss:0.68452\n",
      "[8]\ttrain-mlogloss:0.65304\teval-mlogloss:0.65875\n",
      "[9]\ttrain-mlogloss:0.62970\teval-mlogloss:0.63600\n",
      "[10]\ttrain-mlogloss:0.60919\teval-mlogloss:0.61595\n",
      "[11]\ttrain-mlogloss:0.59101\teval-mlogloss:0.59835\n",
      "[12]\ttrain-mlogloss:0.57503\teval-mlogloss:0.58290\n",
      "[13]\ttrain-mlogloss:0.56077\teval-mlogloss:0.56917\n",
      "[14]\ttrain-mlogloss:0.54808\teval-mlogloss:0.55695\n",
      "[15]\ttrain-mlogloss:0.53681\teval-mlogloss:0.54614\n",
      "[16]\ttrain-mlogloss:0.52671\teval-mlogloss:0.53658\n",
      "[17]\ttrain-mlogloss:0.51755\teval-mlogloss:0.52798\n",
      "[18]\ttrain-mlogloss:0.50938\teval-mlogloss:0.52033\n",
      "[19]\ttrain-mlogloss:0.50207\teval-mlogloss:0.51339\n",
      "[20]\ttrain-mlogloss:0.49551\teval-mlogloss:0.50725\n",
      "[21]\ttrain-mlogloss:0.48949\teval-mlogloss:0.50171\n",
      "[22]\ttrain-mlogloss:0.48401\teval-mlogloss:0.49684\n",
      "[23]\ttrain-mlogloss:0.47893\teval-mlogloss:0.49234\n",
      "[24]\ttrain-mlogloss:0.47449\teval-mlogloss:0.48840\n",
      "[25]\ttrain-mlogloss:0.47026\teval-mlogloss:0.48467\n",
      "[26]\ttrain-mlogloss:0.46647\teval-mlogloss:0.48152\n",
      "[27]\ttrain-mlogloss:0.46309\teval-mlogloss:0.47857\n",
      "[28]\ttrain-mlogloss:0.45976\teval-mlogloss:0.47584\n",
      "[29]\ttrain-mlogloss:0.45692\teval-mlogloss:0.47349\n",
      "[30]\ttrain-mlogloss:0.45404\teval-mlogloss:0.47121\n",
      "[31]\ttrain-mlogloss:0.45149\teval-mlogloss:0.46922\n",
      "[32]\ttrain-mlogloss:0.44919\teval-mlogloss:0.46739\n",
      "[33]\ttrain-mlogloss:0.44691\teval-mlogloss:0.46567\n",
      "[34]\ttrain-mlogloss:0.44492\teval-mlogloss:0.46431\n",
      "[35]\ttrain-mlogloss:0.44285\teval-mlogloss:0.46284\n",
      "[36]\ttrain-mlogloss:0.44110\teval-mlogloss:0.46161\n",
      "[37]\ttrain-mlogloss:0.43914\teval-mlogloss:0.46032\n",
      "[38]\ttrain-mlogloss:0.43749\teval-mlogloss:0.45922\n",
      "[39]\ttrain-mlogloss:0.43596\teval-mlogloss:0.45817\n",
      "[40]\ttrain-mlogloss:0.43454\teval-mlogloss:0.45724\n",
      "[41]\ttrain-mlogloss:0.43311\teval-mlogloss:0.45632\n",
      "[42]\ttrain-mlogloss:0.43174\teval-mlogloss:0.45554\n",
      "[43]\ttrain-mlogloss:0.43053\teval-mlogloss:0.45478\n",
      "[44]\ttrain-mlogloss:0.42923\teval-mlogloss:0.45389\n",
      "[45]\ttrain-mlogloss:0.42791\teval-mlogloss:0.45316\n",
      "[46]\ttrain-mlogloss:0.42681\teval-mlogloss:0.45258\n",
      "[47]\ttrain-mlogloss:0.42563\teval-mlogloss:0.45201\n",
      "[48]\ttrain-mlogloss:0.42443\teval-mlogloss:0.45142\n",
      "[49]\ttrain-mlogloss:0.42329\teval-mlogloss:0.45085\n",
      "[50]\ttrain-mlogloss:0.42224\teval-mlogloss:0.45036\n",
      "[51]\ttrain-mlogloss:0.42110\teval-mlogloss:0.44986\n",
      "[52]\ttrain-mlogloss:0.42022\teval-mlogloss:0.44935\n",
      "[53]\ttrain-mlogloss:0.41918\teval-mlogloss:0.44888\n",
      "[54]\ttrain-mlogloss:0.41816\teval-mlogloss:0.44842\n",
      "[55]\ttrain-mlogloss:0.41731\teval-mlogloss:0.44819\n",
      "[56]\ttrain-mlogloss:0.41660\teval-mlogloss:0.44784\n",
      "[57]\ttrain-mlogloss:0.41565\teval-mlogloss:0.44749\n",
      "[58]\ttrain-mlogloss:0.41492\teval-mlogloss:0.44717\n",
      "[59]\ttrain-mlogloss:0.41414\teval-mlogloss:0.44684\n",
      "[60]\ttrain-mlogloss:0.41345\teval-mlogloss:0.44641\n",
      "[61]\ttrain-mlogloss:0.41275\teval-mlogloss:0.44615\n",
      "[62]\ttrain-mlogloss:0.41216\teval-mlogloss:0.44588\n",
      "[63]\ttrain-mlogloss:0.41139\teval-mlogloss:0.44556\n",
      "[64]\ttrain-mlogloss:0.41075\teval-mlogloss:0.44523\n",
      "[65]\ttrain-mlogloss:0.40999\teval-mlogloss:0.44501\n",
      "[66]\ttrain-mlogloss:0.40925\teval-mlogloss:0.44476\n",
      "[67]\ttrain-mlogloss:0.40869\teval-mlogloss:0.44462\n",
      "[68]\ttrain-mlogloss:0.40811\teval-mlogloss:0.44441\n",
      "[69]\ttrain-mlogloss:0.40738\teval-mlogloss:0.44420\n",
      "[70]\ttrain-mlogloss:0.40652\teval-mlogloss:0.44398\n",
      "[71]\ttrain-mlogloss:0.40592\teval-mlogloss:0.44366\n",
      "[72]\ttrain-mlogloss:0.40509\teval-mlogloss:0.44349\n",
      "[73]\ttrain-mlogloss:0.40451\teval-mlogloss:0.44335\n",
      "[74]\ttrain-mlogloss:0.40381\teval-mlogloss:0.44317\n",
      "[75]\ttrain-mlogloss:0.40319\teval-mlogloss:0.44304\n",
      "[76]\ttrain-mlogloss:0.40245\teval-mlogloss:0.44290\n",
      "[77]\ttrain-mlogloss:0.40172\teval-mlogloss:0.44270\n",
      "[78]\ttrain-mlogloss:0.40106\teval-mlogloss:0.44268\n",
      "[79]\ttrain-mlogloss:0.40043\teval-mlogloss:0.44250\n",
      "[80]\ttrain-mlogloss:0.39968\teval-mlogloss:0.44236\n",
      "[81]\ttrain-mlogloss:0.39917\teval-mlogloss:0.44224\n",
      "[82]\ttrain-mlogloss:0.39852\teval-mlogloss:0.44206\n",
      "[83]\ttrain-mlogloss:0.39798\teval-mlogloss:0.44191\n",
      "[84]\ttrain-mlogloss:0.39736\teval-mlogloss:0.44180\n",
      "[85]\ttrain-mlogloss:0.39686\teval-mlogloss:0.44169\n",
      "[86]\ttrain-mlogloss:0.39609\teval-mlogloss:0.44154\n",
      "[87]\ttrain-mlogloss:0.39535\teval-mlogloss:0.44130\n",
      "[88]\ttrain-mlogloss:0.39477\teval-mlogloss:0.44117\n",
      "[89]\ttrain-mlogloss:0.39419\teval-mlogloss:0.44114\n",
      "[90]\ttrain-mlogloss:0.39356\teval-mlogloss:0.44111\n",
      "[91]\ttrain-mlogloss:0.39295\teval-mlogloss:0.44102\n",
      "[92]\ttrain-mlogloss:0.39233\teval-mlogloss:0.44093\n",
      "[93]\ttrain-mlogloss:0.39176\teval-mlogloss:0.44083\n",
      "[94]\ttrain-mlogloss:0.39111\teval-mlogloss:0.44076\n",
      "[95]\ttrain-mlogloss:0.39049\teval-mlogloss:0.44064\n",
      "[96]\ttrain-mlogloss:0.38982\teval-mlogloss:0.44054\n",
      "[97]\ttrain-mlogloss:0.38930\teval-mlogloss:0.44043\n",
      "[98]\ttrain-mlogloss:0.38890\teval-mlogloss:0.44041\n",
      "[99]\ttrain-mlogloss:0.38825\teval-mlogloss:0.44028\n"
     ]
    }
   ],
   "execution_count": 31
  },
  {
   "metadata": {
    "ExecuteTime": {
     "end_time": "2024-12-12T11:30:20.683320Z",
     "start_time": "2024-12-12T11:30:20.651777Z"
    }
   },
   "cell_type": "code",
   "source": [
    "y_pred_val = xgb_model.predict(dval)\n",
    "accuracy = accuracy_score(y_val_encoded, y_pred_val)\n",
    "print(f\"Validation Accuracy: {accuracy:.4f}\")\n",
    "print(classification_report(y_val_encoded, y_pred_val))"
   ],
   "outputs": [
    {
     "name": "stdout",
     "output_type": "stream",
     "text": [
      "Validation Accuracy: 0.8306\n",
      "              precision    recall  f1-score   support\n",
      "\n",
      "           0       0.91      0.83      0.87      5059\n",
      "           1       0.65      0.62      0.63      2988\n",
      "           2       0.85      0.92      0.88      7257\n",
      "\n",
      "    accuracy                           0.83     15304\n",
      "   macro avg       0.80      0.79      0.79     15304\n",
      "weighted avg       0.83      0.83      0.83     15304\n",
      "\n"
     ]
    }
   ],
   "execution_count": 32
  },
  {
   "metadata": {
    "ExecuteTime": {
     "end_time": "2024-12-12T11:30:28.580603Z",
     "start_time": "2024-12-12T11:30:28.449325Z"
    }
   },
   "cell_type": "code",
   "source": [
    "original_labels = label_encoder.inverse_transform(y_val_encoded)\n",
    "pred_labels = label_encoder.inverse_transform(y_pred_val.astype(int))\n",
    "\n",
    "cm = confusion_matrix(original_labels, pred_labels)\n",
    "sns.heatmap(cm, annot=True, fmt='d', cmap='Blues')"
   ],
   "outputs": [
    {
     "data": {
      "text/plain": [
       "<Axes: >"
      ]
     },
     "execution_count": 33,
     "metadata": {},
     "output_type": "execute_result"
    },
    {
     "data": {
      "text/plain": [
       "<Figure size 640x480 with 2 Axes>"
      ],
      "image/png": "[encoded data removed]"
     },
     "metadata": {},
     "output_type": "display_data"
    }
   ],
   "execution_count": 33
  },
  {
   "cell_type": "code",
   "metadata": {
    "ExecuteTime": {
     "end_time": "2024-12-12T11:30:32.850146Z",
     "start_time": "2024-12-12T11:30:32.804729Z"
    }
   },
   "source": [
    "# Predict on test data\n",
    "y_test_pred = xgb_model.predict(dtest)\n",
    "\n",
    "predicted_labels = label_encoder.inverse_transform(y_test_pred.astype(int))\n",
    "\n",
    "def submitModelPredictedLabels(predicted_labels, X_test):\n",
    "    submission = pd.DataFrame(\n",
    "        {'id': test_data[\"id\"], 'Target': predicted_labels},\n",
    "        columns=['id', 'Target']\n",
    "    )\n",
    "    submission.to_csv('submission.csv', index=False)\n",
    "    print(\"Submission file saved as 'submission.csv'\")"
   ],
   "outputs": [],
   "execution_count": 34
  },
  {
   "metadata": {
    "ExecuteTime": {
     "end_time": "2024-12-12T11:30:34.897960Z",
     "start_time": "2024-12-12T11:30:34.872496Z"
    }
   },
   "cell_type": "code",
   "source": "submitModelPredictedLabels(predicted_labels, test_data)",
   "outputs": [
    {
     "name": "stdout",
     "output_type": "stream",
     "text": [
      "Submission file saved as 'submission.csv'\n"
     ]
    }
   ],
   "execution_count": 35
  },
  {
   "metadata": {},
   "cell_type": "markdown",
   "source": "# Ensemble model"
  },
  {
   "metadata": {
    "ExecuteTime": {
     "end_time": "2024-12-12T11:30:50.953310Z",
     "start_time": "2024-12-12T11:30:44.583397Z"
    }
   },
   "cell_type": "code",
   "source": [
    "ensemble = pd.DataFrame()\n",
    "ensemble[\"model1\"] = hgb_model.predict(X_test_scaled)\n",
    "ensemble[\"model2\"] = randomF1000.predict(X_test_scaled)\n",
    "ensemble[\"model3\"] = xgb_model.predict(dtest)"
   ],
   "outputs": [],
   "execution_count": 36
  },
  {
   "metadata": {
    "ExecuteTime": {
     "end_time": "2024-12-12T11:30:58.337078Z",
     "start_time": "2024-12-12T11:30:50.964306Z"
    }
   },
   "cell_type": "code",
   "source": [
    "ensemble['ensemble'] = ensemble[[\"model1\", \"model2\", \"model3\"]].mode(axis=1)[0]\n",
    "ensemble['ensemble'] = ensemble['ensemble'].astype(int)\n",
    "# decode the obtained labels\n",
    "ensemble['ensemble'] = label_encoder.inverse_transform(ensemble['ensemble'])\n",
    "print(ensemble['ensemble'].head())"
   ],
   "outputs": [
    {
     "name": "stdout",
     "output_type": "stream",
     "text": [
      "0     Dropout\n",
      "1    Graduate\n",
      "2    Graduate\n",
      "3    Enrolled\n",
      "4    Enrolled\n",
      "Name: ensemble, dtype: object\n"
     ]
    }
   ],
   "execution_count": 37
  },
  {
   "metadata": {
    "ExecuteTime": {
     "end_time": "2024-12-12T11:30:58.366647Z",
     "start_time": "2024-12-12T11:30:58.364462Z"
    }
   },
   "cell_type": "code",
   "source": [
    "def submitModelPredictedLabels(predicted_labels):\n",
    "    submission = pd.DataFrame(\n",
    "        {'id': test_data[\"id\"], 'Target': predicted_labels},\n",
    "        columns=['id', 'Target']\n",
    "    )\n",
    "    submission.to_csv('submission.csv', index=False)\n",
    "    print(\"Submission file saved as 'submission.csv'\")"
   ],
   "outputs": [],
   "execution_count": 38
  },
  {
   "metadata": {
    "ExecuteTime": {
     "end_time": "2024-12-12T11:30:58.437650Z",
     "start_time": "2024-12-12T11:30:58.408468Z"
    }
   },
   "cell_type": "code",
   "source": "submitModelPredictedLabels(ensemble['ensemble'])",
   "outputs": [
    {
     "name": "stdout",
     "output_type": "stream",
     "text": [
      "Submission file saved as 'submission.csv'\n"
     ]
    }
   ],
   "execution_count": 39
  }
 ],
 "metadata": {
  "colab": {
   "include_colab_link": true,
   "provenance": []
  },
  "kernelspec": {
   "display_name": "Python 3 (ipykernel)",
   "language": "python",
   "name": "python3"
  },
  "language_info": {
   "codemirror_mode": {
    "name": "ipython",
    "version": 3
   },
   "file_extension": ".py",
   "mimetype": "text/x-python",
   "name": "python",
   "nbconvert_exporter": "python",
   "pygments_lexer": "ipython3",
   "version": "3.12.2"
  }
 },
 "nbformat": 4,
 "nbformat_minor": 4
}
